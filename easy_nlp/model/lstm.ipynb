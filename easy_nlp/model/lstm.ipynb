{
 "cells": [
  {
   "cell_type": "code",
   "execution_count": 84,
   "metadata": {},
   "outputs": [],
   "source": [
    "import tensorflow as tf\n",
    "from tensorflow import keras"
   ]
  },
  {
   "cell_type": "markdown",
   "metadata": {},
   "source": [
    "## Standard LSTM"
   ]
  },
  {
   "cell_type": "code",
   "execution_count": 214,
   "metadata": {},
   "outputs": [],
   "source": [
    "class iLSTMCell(keras.layers.Layer):\n",
    "    def __init__(self, units=300, seed=42, **kwargs):\n",
    "        super().__init__(**kwargs)\n",
    "        self.units = units\n",
    "        self.state_size = (units, units)\n",
    "        self.seed = seed\n",
    "\n",
    "        self.f_layer = keras.layers.Dense(units, use_bias=True, activation='sigmoid', kernel_initializer='glorot_uniform', bias_initializer='ones', name='f_gate')\n",
    "        self.i_layer = keras.layers.Dense(units, use_bias=True, activation='sigmoid', kernel_initializer='glorot_uniform', name='i_gate')\n",
    "        self.o_layer = keras.layers.Dense(units, use_bias=True, activation='sigmoid', kernel_initializer='glorot_uniform', name='o_gate')\n",
    "        self.c_layer = tf.keras.layers.Dense(units, use_bias=True, activation='tanh', kernel_initializer='glorot_uniform', name='input_layer')\n",
    "\n",
    "\n",
    "    def call(self, x, state):\n",
    "        h = state[0]\n",
    "        c = state[1]\n",
    "        inputs = tf.concat([x, h], axis=-1)\n",
    "\n",
    "        f_gate = self.f_layer(inputs)\n",
    "        i_gate = self.i_layer(inputs)\n",
    "        o_gate = self.o_layer(inputs)\n",
    "        c_tmp = self.c_layer(inputs)\n",
    "        c = f_gate * c + i_gate * c_tmp\n",
    "        h = o_gate * new_c\n",
    "        return h, [h, c]"
   ]
  },
  {
   "cell_type": "markdown",
   "metadata": {},
   "source": [
    "## Efficient LSTM"
   ]
  },
  {
   "cell_type": "code",
   "execution_count": null,
   "metadata": {},
   "outputs": [],
   "source": [
    "from tensorflow.keras import layers\n",
    "from tensorflow.keras import initializers, activations\n",
    "\n",
    "class iLSTMCell(layers.Layer):\n",
    "    def __init__(self, units=300, seed=42, **kwargs):\n",
    "        super().__init__(**kwargs)\n",
    "        self.units = units\n",
    "        self.state_size = (units, units)\n",
    "        self.seed = seed\n",
    "        \n",
    "        self.dropout = layers.Dropout(0.2)\n",
    "        self.activation = activations.get('tanh')\n",
    "        self.recurrent_activation = activations.get('sigmoid')\n",
    "\n",
    "    def build(self, input_shape):\n",
    "        super().build(input_shape)\n",
    "        input_dim = input_shape[-1]\n",
    "        \n",
    "        self.kernel = self.add_weight(\n",
    "            shape=(input_dim, self.units * 4),\n",
    "            name=\"kernel\",\n",
    "            initializer=\"glorot_uniform\",\n",
    "            regularizer=tf.keras.regularizers.L2(0.01),\n",
    "        )\n",
    "        self.recurrent_kernel = self.add_weight(\n",
    "            shape=(self.units, self.units * 4),\n",
    "            name=\"recurrent_kernel\",\n",
    "            initializer=\"glorot_uniform\",\n",
    "            regularizer=tf.keras.regularizers.L2(0.01),\n",
    "        )\n",
    "\n",
    "        def bias_initializer(_, *args, **kwargs):\n",
    "            return tf.concat(\n",
    "                [\n",
    "                    initializers.Zeros()((self.units,), *args, **kwargs),\n",
    "                    initializers.get(\"ones\")((self.units,), *args, **kwargs),\n",
    "                    initializers.Zeros()((self.units * 2,), *args, **kwargs),\n",
    "                ], -1\n",
    "            )\n",
    "        self.bias = self.add_weight(\n",
    "            shape=(self.units * 4,),\n",
    "            name=\"bias\",\n",
    "            initializer=bias_initializer,\n",
    "            regularizer=tf.keras.regularizers.L1(0.01),\n",
    "        )\n",
    "        self.built = True\n",
    "\n",
    "    def get_initial_state(self, inputs=None, batch_size=None, dtype=None):\n",
    "        if inputs is not None:\n",
    "            batch_size = tf.shape(inputs)[0]\n",
    "            dtype = inputs.dtype\n",
    "\n",
    "        return [\n",
    "            tf.random.normal((batch_size, self.state_size[0]), dtype=dtype, seed=self.seed),\n",
    "            tf.random.normal((batch_size, self.state_size[0]), dtype=dtype, seed=self.seed+1),\n",
    "        ]\n",
    "\n",
    "\n",
    "    def call(self, inputs, states, training=None):\n",
    "        h0 = states[0]\n",
    "        c0 = states[1]\n",
    "\n",
    "        z = tf.matmul(inputs, self.kernel)\n",
    "        z += tf.matmul(h0, self.recurrent_kernel)\n",
    "        z = tf.nn.bias_add(z, self.bias)\n",
    "        z = self.dropout(z)\n",
    "\n",
    "        z = tf.split(z, num_or_size_splits=4, axis=1)\n",
    "        z0, z1, z2, z3 = z\n",
    "        i = self.recurrent_activation(z0)\n",
    "        f = self.recurrent_activation(z1)\n",
    "        c1 = f * c0 + i * self.activation(z2)\n",
    "        o = self.recurrent_activation(z3)\n",
    "\n",
    "        h1 = o * self.activation(c1)\n",
    "        return h1, [h1, c1]"
   ]
  },
  {
   "cell_type": "code",
   "execution_count": null,
   "metadata": {},
   "outputs": [],
   "source": [
    "outputs = input_layer(inputs)\n",
    "model = keras.Model(inputs=inputs, outputs=outputs, name=\"mnist_model\")\n",
    "model.summary()"
   ]
  },
  {
   "cell_type": "code",
   "execution_count": 196,
   "metadata": {},
   "outputs": [
    {
     "name": "stdout",
     "output_type": "stream",
     "text": [
      "(2, 2, 2) (2, 2, 2) (2, 2, 4)\n"
     ]
    },
    {
     "data": {
      "text/plain": [
       "[]"
      ]
     },
     "execution_count": 196,
     "metadata": {},
     "output_type": "execute_result"
    }
   ],
   "source": [
    "d = layers.Dense(5)\n",
    "a = tf.convert_to_tensor([[[0.1, 0.2], [0.01, 0.02]], [[0.05, 0.2], [0.05, 0.02]]])\n",
    "b = tf.convert_to_tensor([[[0.1, 0.2], [0.01, 0.02]], [[0.05, 0.2], [0.05, 0.02]]])\n",
    "c = tf.concat([a, b], axis=-1)\n",
    "print(a.shape, b.shape, c.shape)\n",
    "d.weights"
   ]
  },
  {
   "cell_type": "code",
   "execution_count": 227,
   "metadata": {},
   "outputs": [],
   "source": [
    "from keras.models import Sequential\n",
    "\n",
    "model = Sequential()\n",
    "model.add(layers.RNN(\n",
    "    iLSTMCell(units=3),\n",
    "    return_sequences=True\n",
    "))"
   ]
  },
  {
   "cell_type": "code",
   "execution_count": 229,
   "metadata": {},
   "outputs": [
    {
     "data": {
      "text/plain": [
       "<tf.Tensor: shape=(2, 2, 3), dtype=float32, numpy=\n",
       "array([[[0., 0., 0.],\n",
       "        [0., 0., 0.]],\n",
       "\n",
       "       [[0., 0., 0.],\n",
       "        [0., 0., 0.]]], dtype=float32)>"
      ]
     },
     "execution_count": 229,
     "metadata": {},
     "output_type": "execute_result"
    }
   ],
   "source": [
    "model(a)"
   ]
  },
  {
   "cell_type": "code",
   "execution_count": null,
   "metadata": {},
   "outputs": [],
   "source": []
  }
 ],
 "metadata": {
  "kernelspec": {
   "display_name": "tf",
   "language": "python",
   "name": "python3"
  },
  "language_info": {
   "codemirror_mode": {
    "name": "ipython",
    "version": 3
   },
   "file_extension": ".py",
   "mimetype": "text/x-python",
   "name": "python",
   "nbconvert_exporter": "python",
   "pygments_lexer": "ipython3",
   "version": "3.10.12"
  },
  "orig_nbformat": 4
 },
 "nbformat": 4,
 "nbformat_minor": 2
}
